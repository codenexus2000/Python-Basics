{
 "cells": [
  {
   "cell_type": "markdown",
   "id": "6e4530bb",
   "metadata": {},
   "source": [
    "# Python Basics"
   ]
  },
  {
   "cell_type": "markdown",
   "id": "acef9111",
   "metadata": {},
   "source": [
    "- Basic Syntax\n",
    "- Basic Arthematic Operations\n",
    "- Control and conditional structures- If/else\n",
    "- Loops- For, while loops\n",
    "- Import Libraries\n",
    "- User Input\n",
    "- Data Types\n",
    "- String\n",
    "- Integers\n",
    "- Floating Values\n",
    "- Typecasting\n",
    "- Function in Python\n",
    "- Function Syntax and calling\n",
    "- Lambda Function\n",
    "- Interators Generators, Decorators\n",
    "- Exception Handling\n",
    "- Class and Object\n",
    "- Method\n",
    "- Inheritance\n",
    "- Polymorphism"
   ]
  },
  {
   "cell_type": "markdown",
   "id": "595e8a5a",
   "metadata": {},
   "source": [
    "### Basic Arithmetic Operations\n",
    "\n",
    "- Operators are basically the symbols such as +, - , x, / and the variables prefixing and suffixing the opreators are operands for exam 4 + 5 here and 4 and 5 are operands and + is the operator.\n",
    "\n",
    "different operators in python:\n",
    "1. arithmetic -  + , -, *, /, %, //, **  are arithmetic operators\n",
    "2. comperarsion (Relational) operators-    >, <, ==, !=, >=, <= are comparision operators\n",
    "3. logical boolean- **and, or, not** operators.\n",
    "4. bitwise operators- $&,  |,  ~,  ^,  >>,  <<$\n",
    "5. assignment operators (are used in Python to >assign values to variables.)-     =,  +=,  -=,  *=,  /=,  %=,  //=,  **=, &=,  |=,  ^=,  >>=,  <<=\n",
    "6. special operators (**is and is not** are the <u>identity operators</u> in Python. They are used to verify if two values (or variables) are located in the same part of the memory.)\n"
   ]
  },
  {
   "cell_type": "markdown",
   "id": "46699c62",
   "metadata": {},
   "source": []
  },
  {
   "cell_type": "code",
   "execution_count": null,
   "id": "80c81be7",
   "metadata": {},
   "outputs": [],
   "source": []
  },
  {
   "cell_type": "markdown",
   "id": "3d782f9b",
   "metadata": {},
   "source": [
    "### Control and Conditional Structures- If/Else\n",
    "\n",
    "- If else statements are basically used for decision making\n",
    "- use elif for else if."
   ]
  },
  {
   "cell_type": "code",
   "execution_count": 2,
   "id": "22b065b0",
   "metadata": {},
   "outputs": [
    {
     "name": "stdout",
     "output_type": "stream",
     "text": [
      "enter the username: nndndn\n",
      "wrong username accesses denied\n"
     ]
    }
   ],
   "source": [
    "# For example\n",
    "\n",
    "username = input(\"enter the username: \")\n",
    "\n",
    "if username == \"aditya\":\n",
    "    print(\"accesses granted\")\n",
    "else:\n",
    "    print (\"wrong username accesses denied\")\n"
   ]
  },
  {
   "cell_type": "code",
   "execution_count": 17,
   "id": "7ad5a944",
   "metadata": {},
   "outputs": [
    {
     "name": "stdout",
     "output_type": "stream",
     "text": [
      "enter the user age41\n",
      "too old\n"
     ]
    }
   ],
   "source": [
    "#if else statements can also be nested the statements for example\n",
    "#you can also use logical operators such as \"and\" to combine this\n",
    "\n",
    "age = int(input(\"enter the user age\"))\n",
    "\n",
    "if age >=13:\n",
    "    if age <=19:\n",
    "        print(\"teenager\")\n",
    "    if (age >=19) and (age <=40):\n",
    "        print (\"adult\")\n",
    "    if age >40:\n",
    "        print (\"too old\")\n",
    "else:\n",
    "    print(\"child\")"
   ]
  },
  {
   "cell_type": "markdown",
   "id": "dafcda48",
   "metadata": {},
   "source": [
    "### Loops- For, While\n",
    "\n",
    "#### While Loop\n",
    "- While loop iterates until the statement returns false\n",
    "- so if the statement stays true it keeps on going"
   ]
  },
  {
   "cell_type": "code",
   "execution_count": 18,
   "id": "6ef42d14",
   "metadata": {},
   "outputs": [
    {
     "name": "stdout",
     "output_type": "stream",
     "text": [
      "the sum of the list = 15\n"
     ]
    }
   ],
   "source": [
    "#finding the sum of numbers in a list using while loop\n",
    "\n",
    "list = [1,2,3,4,5]\n",
    "\n",
    "sum=0\n",
    "index=0 \n",
    "\n",
    "while index < len(list): \n",
    "    sum += list[index]\n",
    "    index += 1 \n",
    "print (\"the sum of the list =\", sum)"
   ]
  },
  {
   "cell_type": "code",
   "execution_count": 19,
   "id": "201dcc79",
   "metadata": {},
   "outputs": [
    {
     "name": "stdout",
     "output_type": "stream",
     "text": [
      "Pleease enter a number: 14\n",
      "heres the result:\n",
      "the factorial value of 14 is:  87178291200\n"
     ]
    }
   ],
   "source": [
    "#Using while to print factorial:\n",
    "userinput = input(\"Pleease enter a number: \")\n",
    "number= int(userinput)\n",
    "\n",
    "if number <= 0:\n",
    "    print(\"inavlid number please re-enter\")\n",
    "    userinput= input(\"Pleease enter a number: \")\n",
    "    number= int (userinput)\n",
    "else:\n",
    "    print (\"heres the result:\")\n",
    "\n",
    "fact= 1\n",
    "if number >0:\n",
    "    while number >0:\n",
    "        fact *= number\n",
    "        number -= 1\n",
    "    print (\"the factorial value of\", userinput, \"is: \", fact)"
   ]
  },
  {
   "cell_type": "markdown",
   "id": "eb14a333",
   "metadata": {},
   "source": [
    "#### For Loop:\n",
    "- for loop is mainly used to iterate over sequences like list, tuple, sequence etc."
   ]
  },
  {
   "cell_type": "code",
   "execution_count": 20,
   "id": "f5235ea1",
   "metadata": {},
   "outputs": [
    {
     "name": "stdout",
     "output_type": "stream",
     "text": [
      "the sum is:  15\n"
     ]
    }
   ],
   "source": [
    "#findinh sum of all elements:\n",
    "\n",
    "list= [1,2,3,4,5]\n",
    "\n",
    "sum= 0\n",
    "\n",
    "for i in list:\n",
    "    sum += i\n",
    "print (\"the sum is: \", sum)"
   ]
  },
  {
   "cell_type": "code",
   "execution_count": 22,
   "id": "73e30403",
   "metadata": {},
   "outputs": [
    {
     "name": "stdout",
     "output_type": "stream",
     "text": [
      "enter a positive number: 73\n",
      "all the divisble value are:  [1]\n"
     ]
    }
   ],
   "source": [
    "#finding all the divisors for a number\n",
    "\n",
    "userinput = input(\"enter a positive number: \")\n",
    "number = int(userinput)\n",
    "\n",
    "div= [1]\n",
    "\n",
    "for divisor in range(2, int(number/2)+1):\n",
    "    if number%divisor==0:\n",
    "        if divisor in [2,3]:\n",
    "            continue\n",
    "        elif len(div)== 3:\n",
    "            break\n",
    "        div.append(divisor)\n",
    "print(\"all the divisble value are: \", div)"
   ]
  },
  {
   "cell_type": "markdown",
   "id": "3d8f2e61",
   "metadata": {},
   "source": [
    "### Import Libraries:"
   ]
  },
  {
   "cell_type": "code",
   "execution_count": null,
   "id": "bc11b1bd",
   "metadata": {},
   "outputs": [],
   "source": []
  },
  {
   "cell_type": "code",
   "execution_count": null,
   "id": "63810847",
   "metadata": {},
   "outputs": [],
   "source": [
    "import math  \n",
    "#-------------------------------------------------------------------------------------------------------------------------------\n",
    "import random \n",
    "#-------------------------------------------------------------------------------------------------------------------------------\n",
    "import datetime\n",
    "#-------------------------------------------------------------------------------------------------------------------------------\n",
    "import os  \n",
    "#-------------------------------------------------------------------------------------------------------------------------------\n",
    "import sys\n",
    "#-------------------------------------------------------------------------------------------------------------------------------\n",
    "import pandas as pd     \n",
    "from pandas_profiling import ProfileReport\n",
    "#-------------------------------------------------------------------------------------------------------------------------------\n",
    "import numpy as np                                                 \n",
    "#-------------------------------------------------------------------------------------------------------------------------------\n",
    "import matplotlib.pyplot as plt                                    \n",
    "import seaborn as sns                                               \n",
    "#-------------------------------------------------------------------------------------------------------------------------------\n",
    "from sklearn.preprocessing import StandardScaler, LabelEncoder     \n",
    "from sklearn.model_selection import train_test_split                \n",
    "from sklearn.neighbors import KNeighborsClassifier                 \n",
    "from sklearn.metrics import accuracy_score, classification_report\n",
    "from sklearn.metrics import confusion_matrix, log_loss              \n",
    "from sklearn.model_selection import cross_val_score\n",
    "from sklearn.model_selection import KFold, StratifiedKFold        \n",
    "from sklearn.model_selection import cross_validate                \n",
    "from sklearn.model_selection import GridSearchCV                   \n",
    "from imblearn.over_sampling import SMOTE                           \n",
    "#-------------------------------------------------------------------------------------------------------------------------------\n",
    "import time                                                         \n",
    "import warnings                                                     \n",
    "warnings.filterwarnings(\"ignore\")                                   "
   ]
  },
  {
   "cell_type": "markdown",
   "id": "04c582c8",
   "metadata": {},
   "source": [
    "#### User Input:\n",
    "-for inputs use the input() function to take user input\n"
   ]
  },
  {
   "cell_type": "code",
   "execution_count": 23,
   "id": "db815981",
   "metadata": {},
   "outputs": [
    {
     "name": "stdout",
     "output_type": "stream",
     "text": [
      "enter something here: janjncj\n",
      "the entered value is: janjncj\n"
     ]
    }
   ],
   "source": [
    "# for example:\n",
    "\n",
    "Username= input(\"enter something here: \")\n",
    "print(\"the entered value is:\", Username )"
   ]
  },
  {
   "cell_type": "markdown",
   "id": "db32ff13",
   "metadata": {},
   "source": [
    "### Data Types:\n",
    "- Int: for integer values\n",
    "- Float: for decimal values\n",
    "- Complex- Imaginary values\n",
    "- Boolean: True/False\n",
    "- String: For character values\n",
    "- list\n",
    "- set\n",
    "- tuples\n",
    "- dictionary"
   ]
  },
  {
   "cell_type": "code",
   "execution_count": 25,
   "id": "852efecb",
   "metadata": {},
   "outputs": [
    {
     "name": "stdout",
     "output_type": "stream",
     "text": [
      "<class 'int'>\n"
     ]
    }
   ],
   "source": [
    "# Integers:\n",
    "x = 10\n",
    "y = -5\n",
    "print(type(x))"
   ]
  },
  {
   "cell_type": "code",
   "execution_count": 26,
   "id": "eab94418",
   "metadata": {},
   "outputs": [
    {
     "name": "stdout",
     "output_type": "stream",
     "text": [
      "<class 'float'>\n"
     ]
    }
   ],
   "source": [
    "# Float\n",
    "pi = 3.14\n",
    "print(type(pi))  "
   ]
  },
  {
   "cell_type": "code",
   "execution_count": 27,
   "id": "8386b104",
   "metadata": {},
   "outputs": [
    {
     "name": "stdout",
     "output_type": "stream",
     "text": [
      "<class 'complex'>\n"
     ]
    }
   ],
   "source": [
    "# Complex:\n",
    "z = 2 + 3j\n",
    "print(type(z))"
   ]
  },
  {
   "cell_type": "code",
   "execution_count": 30,
   "id": "6e36123a",
   "metadata": {},
   "outputs": [
    {
     "name": "stdout",
     "output_type": "stream",
     "text": [
      "<class 'bool'>\n"
     ]
    }
   ],
   "source": [
    "# Boolean:\n",
    "is_true = True\n",
    "print(type(is_true))"
   ]
  },
  {
   "cell_type": "markdown",
   "id": "faa448ee",
   "metadata": {},
   "source": [
    "#### Strings:\n",
    "1. strings are a sequence of characters\n",
    "2. computer only reads strings as numbers mainly binary\n",
    "3. the converstion from character to strings are called encoding and reverse is decoding\n",
    "4. lower() will convert all captial to lower form\n",
    "5. upper() will convert all to capital letters\n",
    "6. split() splits the words into multiple parts\n",
    "7. join() to join a split string\n",
    "8. find() to find character index in a string"
   ]
  },
  {
   "cell_type": "code",
   "execution_count": 46,
   "id": "d469dca0",
   "metadata": {},
   "outputs": [
    {
     "name": "stdout",
     "output_type": "stream",
     "text": [
      "ew Stri\n",
      "s\n",
      "racter\n",
      "New String with added characters this is being added\n",
      "New String with added characters New String with added characters \n",
      "3\n",
      "-----------------------------------------------\n",
      "aytida\n",
      "-----------------------------------------------\n",
      "Write a word: aditya\n",
      "no the word aditya is not a palindrome\n",
      "-----------------------------------------------\n",
      "to string reversed is going be This \n"
     ]
    }
   ],
   "source": [
    "string= 'New String with added characters '\n",
    "string2= 'this is being added'\n",
    "print(string[1:8])\n",
    "print(string[-2])\n",
    "print(string[-8:-2])\n",
    "print(string+ string2)\n",
    "print(string*2)\n",
    "\n",
    "print (string.count('a'))\n",
    "\n",
    "print('-----------------------------------------------')\n",
    "\n",
    "# String Reversal:\n",
    "firststring= 'aditya'\n",
    "reversestring=''\n",
    "for char in firststring:\n",
    "    reversestring = char+reversestring\n",
    "print(reversestring)\n",
    "\n",
    "print('-----------------------------------------------')\n",
    "\n",
    "# Palindrome:\n",
    "palindrome= (input(\"Write a word: \"))\n",
    "reverse=''\n",
    "for char in palindrome:\n",
    "    reverse= char +reverse\n",
    "if reverse== palindrome:\n",
    "    print('yes the word ',palindrome, 'is a palindrome')\n",
    "else:\n",
    "    print('no the word', palindrome, 'is not a palindrome')\n",
    "    \n",
    "print('-----------------------------------------------') \n",
    "\n",
    "# reversing the whole string:\n",
    "\n",
    "mystring= \"This string is going to be reversed\"\n",
    "\n",
    "words= mystring.split()\n",
    "words.sort(reverse=True)\n",
    "revstring= ''\n",
    "\n",
    "for word in words:\n",
    "    revstring += word + ' '\n",
    "print(revstring)"
   ]
  },
  {
   "cell_type": "markdown",
   "id": "5362e3b8",
   "metadata": {},
   "source": [
    "#### Lists:\n",
    "\n",
    "1. Lists are mutable\n",
    "2. Collection of items such as strings, numbers, or even other lists.\n",
    "3. every item has a assigned index value starting form 0\n",
    "4. Called by using []\n",
    "\n",
    "#### Commands:\n",
    "Commands:\n",
    "1. Legnth of list = len (list)\n",
    "2. Adding to a list= list.append(\"element\")\n",
    "3. Inserting at a postion= list.insert(position (numerical), \"element\")\n",
    "4. Remove from a list= list.remove(\"element\") *this only removes the first occurance and not multiple\n",
    "5. Extension to a list= list.extend(\"element) *in case of extending a list the extend function adds each individual value\n",
    "unlike append function.\n",
    "6. Deleting from a list= del list[] *unlike remove del can have specified range for ex del list [1:3] whicl deletes from\n",
    "index value 1 till index value 3\n",
    "7. Popping a valur from a list= list.pop() *it is better to creat a variable value and pop can return the value that has\n",
    "been deleted when the variable declared for pop is printed.\n",
    "8. Membership in list= in & not in  *these are used to find values in a list used with an if staterment\n",
    "for ex: if 'element' in list- print (list)\n",
    "9. Reversing a list= list.reverse()\n",
    "10. Sorting a list in ascending order=  sorted(list)\n",
    "11. Sorting a list in descending order= sorted(list, reverse=True)\n",
    "12. Refereing to a list= set a variable = list and then if you append or remove it adds to the memory of the original.\n",
    "for ex: newref= list -> newref.append(6) -> would add 6 to the original list\n",
    "13. Spliting a list= list.split(',') *splits each string in a list of strings.\n",
    "14. Indexing a list= list[0] or list[-1] *access from last.\n",
    "15. Slicing in a list= done by the \":\" symbol you need to specifiy the start or end\n",
    "for ex: list[0:3] , it will only print values from index value 0 to index value 3.\n",
    "16. Skipping in a list= within the slicing add \"::\" with the end value specifying the number to skip\n",
    "for ex: list[::2] specifices that every second value is skipped.\n",
    "17. Extending list= use the \"+\" to extend two lists together list1 + list2\n",
    "18. Counting items in a list= list.count(\"the value that you want to count in the list\")\n",
    "19. Looping in list= for element in list - print list\n"
   ]
  },
  {
   "cell_type": "code",
   "execution_count": 39,
   "id": "eebfb1b5",
   "metadata": {},
   "outputs": [],
   "source": [
    "# Empty list\n",
    "empty_list = []\n",
    "\n",
    "# List with elements\n",
    "fruits = [\"apple\", \"banana\", \"cherry\"]\n",
    "\n",
    "# Mixed data types\n",
    "mixed_list = [10, \"Python\", 3.14, True]"
   ]
  },
  {
   "cell_type": "markdown",
   "id": "3b1b44ac",
   "metadata": {},
   "source": [
    "#### List Comprehension:\n",
    "\n",
    "- list Comprehensions, basically a shorted and easier way\n",
    "- for example making a empty list and then adding values of squared numnber:\n"
   ]
  },
  {
   "cell_type": "code",
   "execution_count": 42,
   "id": "32cb3c5b",
   "metadata": {},
   "outputs": [
    {
     "name": "stdout",
     "output_type": "stream",
     "text": [
      "[0, 1, 4, 9, 16]\n",
      "[0, 1, 4, 9, 16, 25, 36, 49, 64, 81]\n"
     ]
    }
   ],
   "source": [
    "# square of range normal way:\n",
    "list= []\n",
    "\n",
    "for i in range(5):\n",
    "    list.append(i**2)\n",
    "print(list)\n",
    "\n",
    "# using list comprehension:\n",
    "mylist= [i**2 for i in range(10)] \n",
    "print(mylist)"
   ]
  },
  {
   "cell_type": "markdown",
   "id": "9f8b3f81",
   "metadata": {},
   "source": [
    "#### Tuples:\n",
    "1. Tuples are immutable \n",
    "2. Collection of items such as strings, numbers, or even other lists\n",
    "3. every item has a assigned index value starting form 0\n",
    "4. Called by using ()"
   ]
  },
  {
   "cell_type": "code",
   "execution_count": 45,
   "id": "c0160af7",
   "metadata": {},
   "outputs": [
    {
     "name": "stdout",
     "output_type": "stream",
     "text": [
      "b\n",
      "d\n",
      "('a', 'c', 'e')\n",
      "('e', 'f', 'g')\n"
     ]
    }
   ],
   "source": [
    "# Empty tuple\n",
    "empty_tuple = ()\n",
    "\n",
    "# tuple with elements\n",
    "fruits = (\"apple\", \"banana\", \"cherry\")\n",
    "\n",
    "# Mixed data types\n",
    "mixed_tuple = (10, \"Python\", 3.14, True, [1,2,4], \"a\")\n",
    "\n",
    "tuple= ('adi','dhankhar','a','b')\n",
    "print(tuple[-1])\n",
    "\n",
    "nestedtuple= ('a','b',('c','d','e'))\n",
    "print(nestedtuple[2][1])\n",
    "\n",
    "slicetuple= ('a','b','c','d','e','f','g')\n",
    "print(slicetuple[0:6:2])\n",
    "print(slicetuple[-3:])"
   ]
  },
  {
   "cell_type": "markdown",
   "id": "3a74457f",
   "metadata": {},
   "source": [
    "#### Sets:\n",
    "1. Sets are unordered collection of items\n",
    "2. sets are mutable\n",
    "3. sets are denoted by {}\n",
    "4. Sets can be used to perform operations such as union, intersections, symmetric differences etc.\n",
    "5. every element in a set is unqiue and no duplicates are allowed"
   ]
  },
  {
   "cell_type": "code",
   "execution_count": 49,
   "id": "3ea36d48",
   "metadata": {},
   "outputs": [
    {
     "name": "stdout",
     "output_type": "stream",
     "text": [
      "{1, 2, 3, 4, 5, 6}\n",
      "-----------------------------------------------\n",
      "{1, 2, 3, 4, 5, 6, 7}\n",
      "{1, 2, 3, 4, 5, 6, 7}\n",
      "{3, 4, 5}\n",
      "{3, 4, 5}\n",
      "{1, 2}\n",
      "{1, 2}\n",
      "{1, 2, 6, 7}\n",
      "{1, 2, 6, 7}\n"
     ]
    }
   ],
   "source": [
    "set= {1,2,3,4,5,1,6,2,3} #in this case the duplicates wont be printed\n",
    "print(set)\n",
    "\n",
    "print('-----------------------------------------------') \n",
    "\n",
    "set1= {1,2,3,4,5}\n",
    "set2= {3,4,5,6,7}\n",
    "\n",
    "print(set1 | set2) #union\n",
    "print(set1.union(set2)) #union\n",
    "print(set1 & set2) #intersection\n",
    "print(set1.intersection(set2)) #intersection\n",
    "print(set1-set2) #difference\n",
    "print(set1.difference(set2)) #difference\n",
    "print(set1^set2) #symmetric difference\n",
    "print(set1.symmetric_difference(set2)) #symmetric difference\n"
   ]
  },
  {
   "cell_type": "markdown",
   "id": "40169df7",
   "metadata": {},
   "source": [
    "#### Dictionary: \n",
    "1. Dictionary is an unordered collection of items\n",
    "2. Unlike other compound data types that only have values, dictionaries have key:value pairs.\n",
    "3. Declare a dictionary by {}\n",
    "4. key:value pairs allow you to pass the certain keys to get the values\n",
    "5. The keys have to be unique\n",
    "6. use get(key) to get the value"
   ]
  },
  {
   "cell_type": "code",
   "execution_count": 52,
   "id": "bb922830",
   "metadata": {},
   "outputs": [
    {
     "name": "stdout",
     "output_type": "stream",
     "text": [
      "{100: 'super', 90: 'good', 80: 'ok', 50: 'bad'}\n",
      "super\n",
      "good\n",
      "{100: 'amazing', 90: 'good', 80: 'ok', 50: 'bad'}\n",
      "{100: 'amazing', 90: 'good', 80: 'ok', 50: 'bad', 40: 'very bad'}\n",
      "{100: 'amazing', 90: 'good', 80: 'ok', 40: 'very bad'}\n",
      "{100: 'amazing', 90: 'good', 80: 'ok'}\n"
     ]
    }
   ],
   "source": [
    "dict={100:'super', 90:'good',80:'ok',50:'bad'}\n",
    "\n",
    "print(dict)\n",
    "print(dict[100])\n",
    "print(dict.get(90))\n",
    "\n",
    "dict[100]= 'amazing' #update\n",
    "print(dict)\n",
    "\n",
    "dict[40]= 'very bad' #adding\n",
    "print(dict)\n",
    "\n",
    "dict.pop(50) #removing\n",
    "print(dict)\n",
    "\n",
    "del dict[40]\n",
    "print(dict) #deleting\n"
   ]
  },
  {
   "cell_type": "markdown",
   "id": "8d813930",
   "metadata": {},
   "source": [
    "### Function in python:\n",
    "\n",
    "1. functions are a group of statements used for specific task\n",
    "2. syntax for a function is with def functionName(argument):\n",
    "3. def notifies the function start\n",
    "4. once a function is defined it can be called from anywhere\n",
    "5. use '__doc__' to print anything is the docstring"
   ]
  },
  {
   "cell_type": "code",
   "execution_count": 54,
   "id": "d9607f54",
   "metadata": {},
   "outputs": [
    {
     "name": "stdout",
     "output_type": "stream",
     "text": [
      "36\n"
     ]
    }
   ],
   "source": [
    "def sumofnumber (numbers):\n",
    "    \n",
    " #   this function will print sum of all the passed numbers\n",
    " \n",
    "    value= 0\n",
    "    for number in numbers:\n",
    "        value += number\n",
    "    return value\n",
    "sumval= print(sumofnumber([1,2,3,4,5,6,7,8]))\n"
   ]
  },
  {
   "cell_type": "code",
   "execution_count": 55,
   "id": "261734a5",
   "metadata": {},
   "outputs": [
    {
     "name": "stdout",
     "output_type": "stream",
     "text": [
      "Pleease enter a number: 45\n",
      "factorial of 45 is: 119622220865480194561963161495657715064383733760000000000\n"
     ]
    }
   ],
   "source": [
    "userinput = input(\"Pleease enter a number: \")\n",
    "number= int(userinput)\n",
    "\n",
    "def factorial(num):\n",
    "    fact = 1\n",
    "    while(num>0):\n",
    "       fact *= num\n",
    "       num -=1\n",
    "    return fact\n",
    "\n",
    "print(\"factorial of {} is: {}\".format(number, factorial(number)))\n"
   ]
  },
  {
   "cell_type": "markdown",
   "id": "f971d237",
   "metadata": {},
   "source": [
    "### Lambda Functions:\n",
    "1. anonymous functions are without a name\n",
    "2. anonymouse functions are defined using the lambda function\n",
    "3. lambda argument: expression\n",
    "4. mostly used with filter() and map() functions\n"
   ]
  },
  {
   "cell_type": "code",
   "execution_count": 65,
   "id": "e7fa1283",
   "metadata": {},
   "outputs": [
    {
     "name": "stdout",
     "output_type": "stream",
     "text": [
      "400\n"
     ]
    }
   ],
   "source": [
    "square= lambda x: x**2\n",
    "print(square(20))"
   ]
  },
  {
   "cell_type": "code",
   "execution_count": 71,
   "id": "1500d78f",
   "metadata": {},
   "outputs": [
    {
     "name": "stdout",
     "output_type": "stream",
     "text": [
      "[1, 3, 5, 7, 9, 11, 13, 15]\n"
     ]
    }
   ],
   "source": [
    "list1= [1,2,3,4,5,6,7,8,9,10,11,12,13,14,15]\n",
    "odd= list(filter(lambda x: (x%2 != 0), list1))\n",
    "print(odd)"
   ]
  },
  {
   "cell_type": "code",
   "execution_count": 69,
   "id": "c4abb441",
   "metadata": {},
   "outputs": [],
   "source": [
    "del list"
   ]
  },
  {
   "cell_type": "code",
   "execution_count": 70,
   "id": "ffe61e3f",
   "metadata": {},
   "outputs": [
    {
     "name": "stdout",
     "output_type": "stream",
     "text": [
      "[1, 4, 9, 16]\n"
     ]
    }
   ],
   "source": [
    "nums = [1, 2, 3, 4]\n",
    "squared = list(map(lambda x: x**2, nums))\n",
    "print(squared) "
   ]
  },
  {
   "cell_type": "markdown",
   "id": "f7b7dce9",
   "metadata": {},
   "source": [
    "### Iterators, Generators, Decorator:\n",
    "\n",
    "#### Iterator:\n",
    "- An iterator is an object that can be (looped) over and implements the __iter__() and __next__() methods.\n",
    "\n",
    "#### Generator:\n",
    "- Generators are special types of functions that allow the user to generaate value on the fly, and dosent store the value in memory. It is called by the yield keyword\n",
    "\n",
    "#### Decorator:\n",
    "- Decorators are functions that modify the behaviour of other functions and methods without changing there actual code . it is called by \"@decotrater_name\""
   ]
  },
  {
   "cell_type": "code",
   "execution_count": 77,
   "id": "37c44e52",
   "metadata": {},
   "outputs": [
    {
     "name": "stdout",
     "output_type": "stream",
     "text": [
      "1\n",
      "2\n",
      "3\n"
     ]
    }
   ],
   "source": [
    "nums = [1, 2, 3]  \n",
    "it = iter(nums)   \n",
    "print(next(it))  \n",
    "print(next(it))  \n",
    "print(next(it))  "
   ]
  },
  {
   "cell_type": "code",
   "execution_count": 75,
   "id": "494f6dbe",
   "metadata": {},
   "outputs": [
    {
     "name": "stdout",
     "output_type": "stream",
     "text": [
      "0\n",
      "2\n",
      "[4, 6, 8, 10, 12, 14, 16, 18]\n"
     ]
    }
   ],
   "source": [
    "def my_generator(n):\n",
    "    for i in range(n):\n",
    "        yield i * 2 \n",
    "\n",
    "gen = my_generator(10)\n",
    "print(next(gen))  \n",
    "print(next(gen)) \n",
    "print(list(gen))  "
   ]
  },
  {
   "cell_type": "code",
   "execution_count": 76,
   "id": "38cc87d0",
   "metadata": {},
   "outputs": [
    {
     "name": "stdout",
     "output_type": "stream",
     "text": [
      "Before function call\n",
      "Hello!\n",
      "After function call\n"
     ]
    }
   ],
   "source": [
    "def my_decorator(func):\n",
    "    def wrapper():\n",
    "        print(\"Before function call\")\n",
    "        func()\n",
    "        print(\"After function call\")\n",
    "    return wrapper\n",
    "\n",
    "@my_decorator\n",
    "def say_hello():\n",
    "    print(\"Hello!\")\n",
    "\n",
    "say_hello()"
   ]
  },
  {
   "cell_type": "markdown",
   "id": "e72d668a",
   "metadata": {},
   "source": [
    "### Exception Handling:\n",
    "When an error occurs during program execution, Python raises an exception, which can be handled using the try-except block."
   ]
  },
  {
   "cell_type": "code",
   "execution_count": 78,
   "id": "269c2ef2",
   "metadata": {},
   "outputs": [
    {
     "name": "stdout",
     "output_type": "stream",
     "text": [
      "Invalid input! Please enter a number.\n"
     ]
    }
   ],
   "source": [
    "try:\n",
    "    num = int(\"abc\") \n",
    "except ZeroDivisionError:\n",
    "    print(\"Cannot divide by zero!\")\n",
    "except ValueError:\n",
    "    print(\"Invalid input! Please enter a number.\")"
   ]
  },
  {
   "cell_type": "code",
   "execution_count": 79,
   "id": "b6bc1405",
   "metadata": {},
   "outputs": [
    {
     "name": "stdout",
     "output_type": "stream",
     "text": [
      "Cannot divide by zero!\n",
      "Execution completed.\n"
     ]
    }
   ],
   "source": [
    "try:\n",
    "   \n",
    "    x = 10 / 0  \n",
    "except ZeroDivisionError:\n",
    "  \n",
    "    print(\"Cannot divide by zero!\")\n",
    "finally:\n",
    "    \n",
    "    print(\"Execution completed.\")"
   ]
  },
  {
   "cell_type": "code",
   "execution_count": 80,
   "id": "ee03c862",
   "metadata": {},
   "outputs": [
    {
     "name": "stdout",
     "output_type": "stream",
     "text": [
      "This is a custom exception!\n"
     ]
    }
   ],
   "source": [
    "class CustomError(Exception):\n",
    "    pass\n",
    "\n",
    "try:\n",
    "    raise CustomError(\"This is a custom exception!\")\n",
    "except CustomError as e:\n",
    "    print(e)"
   ]
  },
  {
   "cell_type": "markdown",
   "id": "481cd520",
   "metadata": {},
   "source": [
    "### Class, Object and Method:\n",
    "- A class is a used for creating objects. It defines attributes (variables) and methods (functions).\n",
    "- An object is an instance of a class with its own unique data.\n",
    "- A method in Python is a function that belongs to a class and is used to define the behavior of objects."
   ]
  },
  {
   "cell_type": "code",
   "execution_count": 82,
   "id": "4ab2fc0e",
   "metadata": {},
   "outputs": [
    {
     "name": "stdout",
     "output_type": "stream",
     "text": [
      "This car is a Red Toyota.\n",
      "This car is a Blue Honda.\n"
     ]
    }
   ],
   "source": [
    "class Car: #class\n",
    "    def __init__(self, brand, color):\n",
    "        self.brand = brand \n",
    "        self.color = color  \n",
    "\n",
    "    def display(self):  # Method\n",
    "        print(f\"This car is a {self.color} {self.brand}.\")\n",
    "\n",
    "# Objects for class Car:\n",
    "car1 = Car(\"Toyota\", \"Red\")\n",
    "car2 = Car(\"Honda\", \"Blue\")\n",
    "\n",
    "\n",
    "car1.display()  \n",
    "car2.display()  \n"
   ]
  },
  {
   "cell_type": "markdown",
   "id": "fc35ae1f",
   "metadata": {},
   "source": []
  },
  {
   "cell_type": "code",
   "execution_count": null,
   "id": "f63157ed",
   "metadata": {},
   "outputs": [],
   "source": []
  },
  {
   "cell_type": "code",
   "execution_count": null,
   "id": "f02f33b4",
   "metadata": {},
   "outputs": [],
   "source": []
  }
 ],
 "metadata": {
  "kernelspec": {
   "display_name": "Python 3 (ipykernel)",
   "language": "python",
   "name": "python3"
  },
  "language_info": {
   "codemirror_mode": {
    "name": "ipython",
    "version": 3
   },
   "file_extension": ".py",
   "mimetype": "text/x-python",
   "name": "python",
   "nbconvert_exporter": "python",
   "pygments_lexer": "ipython3",
   "version": "3.9.12"
  }
 },
 "nbformat": 4,
 "nbformat_minor": 5
}
