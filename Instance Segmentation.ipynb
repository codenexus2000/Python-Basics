{
 "cells": [
  {
   "cell_type": "code",
   "execution_count": null,
   "id": "c2269bff-8fc9-4511-96f4-36227340a557",
   "metadata": {},
   "outputs": [],
   "source": []
  }
 ],
 "metadata": {
  "kernelspec": {
   "display_name": "",
   "name": ""
  },
  "language_info": {
   "name": ""
  }
 },
 "nbformat": 4,
 "nbformat_minor": 5
}
