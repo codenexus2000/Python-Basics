{
 "cells": [
  {
   "cell_type": "markdown",
   "id": "df615365",
   "metadata": {},
   "source": [
    "# NUMPY"
   ]
  },
  {
   "cell_type": "markdown",
   "id": "0e883229",
   "metadata": {},
   "source": [
    "-Numpy is a library developed to handle large, multi dimensional arrays, and matrices.\n",
    "-it has a large collection of mathematicl functions\n",
    "-Numpy is faster then python\n",
    "-designed for efficient dta storage\n",
    "-Numpy has uniformed datatypes instead of lists\n",
    "\n",
    "Why is numpy faster than python:\n",
    "-cause the numpy array is saved differently:\n",
    "    In normal pythons the list are stored in random places in the RAM\n",
    "    the Numpy arrays are stored sequentially - meaning the numbers in the array are stored one after another and not randomly\n",
    "\n",
    "*The numpy array performs element by elemtent operations meaning if two arrays are addded they are not appended rather each element is added\n"
   ]
  },
  {
   "cell_type": "code",
   "execution_count": 1,
   "id": "ef92cad3",
   "metadata": {},
   "outputs": [],
   "source": [
    "import numpy as np"
   ]
  },
  {
   "cell_type": "code",
   "execution_count": 2,
   "id": "16240953",
   "metadata": {},
   "outputs": [
    {
     "data": {
      "text/plain": [
       "array([ 5,  8, 35, 48, 56])"
      ]
     },
     "execution_count": 2,
     "metadata": {},
     "output_type": "execute_result"
    }
   ],
   "source": [
    "arr1= np.array([1,2,3,4,5]) #.array for creation of  array\n",
    "\n",
    "arr2= np.array([4,6,32,44,51])\n",
    "\n",
    "arr1+arr2"
   ]
  },
  {
   "cell_type": "code",
   "execution_count": 26,
   "id": "29fdd69a",
   "metadata": {},
   "outputs": [
    {
     "data": {
      "text/plain": [
       "array([0., 0., 0., 0., 0.])"
      ]
     },
     "execution_count": 26,
     "metadata": {},
     "output_type": "execute_result"
    }
   ],
   "source": [
    "np.zeros(5) #.zeros for a array with only 0s\n"
   ]
  },
  {
   "cell_type": "code",
   "execution_count": 4,
   "id": "b23b3929",
   "metadata": {},
   "outputs": [
    {
     "data": {
      "text/plain": [
       "array([1., 1., 1., 1., 1., 1., 1., 1., 1., 1.])"
      ]
     },
     "execution_count": 4,
     "metadata": {},
     "output_type": "execute_result"
    }
   ],
   "source": [
    "np.ones(10) #.ones for a array with only 1s"
   ]
  },
  {
   "cell_type": "code",
   "execution_count": 5,
   "id": "46bf7d94",
   "metadata": {},
   "outputs": [
    {
     "data": {
      "text/plain": [
       "array([  0,  11,  22,  33,  44,  55,  66,  77,  88, 100])"
      ]
     },
     "execution_count": 5,
     "metadata": {},
     "output_type": "execute_result"
    }
   ],
   "source": [
    "np.linspace(0,100,10).astype(int) #gives linearly spaced values (intial start point, end point, linear spaces)"
   ]
  },
  {
   "cell_type": "code",
   "execution_count": 6,
   "id": "68323e3c",
   "metadata": {},
   "outputs": [
    {
     "data": {
      "text/plain": [
       "array([[1., 0., 0., 0., 0.],\n",
       "       [0., 1., 0., 0., 0.],\n",
       "       [0., 0., 1., 0., 0.],\n",
       "       [0., 0., 0., 1., 0.],\n",
       "       [0., 0., 0., 0., 1.]])"
      ]
     },
     "execution_count": 6,
     "metadata": {},
     "output_type": "execute_result"
    }
   ],
   "source": [
    "np.eye(5,5) #generates a identitity matrix where only the diagonal is 1 rest  are 0s"
   ]
  },
  {
   "cell_type": "code",
   "execution_count": 7,
   "id": "b350c249",
   "metadata": {},
   "outputs": [
    {
     "data": {
      "text/plain": [
       "array([0.39819675, 0.08939376, 0.79614312, 0.3512763 , 0.80729679,\n",
       "       0.82225059, 0.48583931, 0.31715174, 0.92489714, 0.50703188])"
      ]
     },
     "execution_count": 7,
     "metadata": {},
     "output_type": "execute_result"
    }
   ],
   "source": [
    "np.random.rand(10) #prints random numbers specified between 0-1"
   ]
  },
  {
   "cell_type": "code",
   "execution_count": 8,
   "id": "e8f068fc",
   "metadata": {},
   "outputs": [
    {
     "data": {
      "text/plain": [
       "array([ True,  True, False, False,  True,  True, False,  True,  True,\n",
       "       False, False,  True, False,  True,  True, False,  True, False,\n",
       "        True, False,  True,  True,  True,  True, False,  True, False,\n",
       "       False,  True,  True, False,  True,  True, False, False, False,\n",
       "        True, False,  True,  True, False, False, False,  True,  True,\n",
       "       False,  True, False, False, False,  True,  True,  True,  True,\n",
       "       False, False, False, False, False, False,  True,  True, False,\n",
       "       False, False,  True,  True,  True, False,  True, False, False,\n",
       "        True,  True, False, False, False, False, False, False, False,\n",
       "        True,  True,  True, False,  True, False, False, False, False,\n",
       "       False,  True, False,  True, False, False,  True, False,  True,\n",
       "       False])"
      ]
     },
     "execution_count": 8,
     "metadata": {},
     "output_type": "execute_result"
    }
   ],
   "source": [
    "(np.random.rand(100)<0.5) #shows values as true and false"
   ]
  },
  {
   "cell_type": "code",
   "execution_count": 9,
   "id": "3643d1ca",
   "metadata": {},
   "outputs": [
    {
     "data": {
      "text/plain": [
       "25"
      ]
     },
     "execution_count": 9,
     "metadata": {},
     "output_type": "execute_result"
    }
   ],
   "source": [
    "(np.random.rand(50) >0.5).sum() #the sum() shows the number of occurence"
   ]
  },
  {
   "cell_type": "code",
   "execution_count": 10,
   "id": "355ef640",
   "metadata": {},
   "outputs": [
    {
     "data": {
      "text/plain": [
       "array([2, 2, 1, 3, 2, 6, 1, 5, 2, 5])"
      ]
     },
     "execution_count": 10,
     "metadata": {},
     "output_type": "execute_result"
    }
   ],
   "source": [
    "np.random.randint(1,7,10) #randint will print a random array from (specified start point which is icnluded, to end point not\n",
    "                          #  included, and number of occurence) ex: (1(included),7(not included),10 (occurence))"
   ]
  },
  {
   "cell_type": "code",
   "execution_count": 11,
   "id": "a481c81a",
   "metadata": {},
   "outputs": [
    {
     "data": {
      "text/plain": [
       "array([-0.31090316, -0.60504289, -1.99388702, -0.52590748,  0.94580496,\n",
       "        1.94767459, -1.06078669,  0.8450957 ,  1.88556429,  0.1072782 ])"
      ]
     },
     "execution_count": 11,
     "metadata": {},
     "output_type": "execute_result"
    }
   ],
   "source": [
    "np.random.randn(10) #used for standar deviation and stuff"
   ]
  },
  {
   "cell_type": "code",
   "execution_count": 12,
   "id": "38915dcf",
   "metadata": {},
   "outputs": [],
   "source": [
    "mean1= np.random.randint(1,101,100)"
   ]
  },
  {
   "cell_type": "code",
   "execution_count": 13,
   "id": "fbeb1818",
   "metadata": {},
   "outputs": [
    {
     "data": {
      "text/plain": [
       "44.41"
      ]
     },
     "execution_count": 13,
     "metadata": {},
     "output_type": "execute_result"
    }
   ],
   "source": [
    "np.mean(mean1)"
   ]
  },
  {
   "cell_type": "code",
   "execution_count": 14,
   "id": "47250388",
   "metadata": {},
   "outputs": [
    {
     "data": {
      "text/plain": [
       "44.5"
      ]
     },
     "execution_count": 14,
     "metadata": {},
     "output_type": "execute_result"
    }
   ],
   "source": [
    "np.median(mean1)"
   ]
  },
  {
   "cell_type": "code",
   "execution_count": 15,
   "id": "ca6cd17c",
   "metadata": {},
   "outputs": [],
   "source": [
    "#operators: and= & ; or= | ; not = ~"
   ]
  },
  {
   "cell_type": "code",
   "execution_count": 16,
   "id": "830e3f04",
   "metadata": {},
   "outputs": [],
   "source": [
    "#inbuilt functions:\n",
    "#.min\n",
    "#.max\n",
    "#.exp\n",
    "#.argmin - the index position of the smallest number\n",
    "#.argmax - the index position of the largest number\n",
    "#.sqrt"
   ]
  },
  {
   "cell_type": "code",
   "execution_count": 17,
   "id": "1217ed4c",
   "metadata": {},
   "outputs": [],
   "source": [
    "#axis=0 for rows, axis= 1 for coloumns"
   ]
  },
  {
   "cell_type": "code",
   "execution_count": 18,
   "id": "b58ff4e1",
   "metadata": {},
   "outputs": [],
   "source": [
    "#.concatenate - joins sequence of array along thee axis\n",
    "#.hsplit()- splits array in multiple sub arrays column wise horizonatallty\n",
    "#.vsplit()- splits array in multiple sub arrays row wise vertically"
   ]
  },
  {
   "cell_type": "code",
   "execution_count": 19,
   "id": "2230942d",
   "metadata": {},
   "outputs": [
    {
     "name": "stdout",
     "output_type": "stream",
     "text": [
      "6\n"
     ]
    }
   ],
   "source": [
    "a = np.array([[1,2,3],[0,1,4]]) \n",
    "print (a.size)"
   ]
  },
  {
   "cell_type": "code",
   "execution_count": 20,
   "id": "fcf75ff9",
   "metadata": {},
   "outputs": [
    {
     "name": "stdout",
     "output_type": "stream",
     "text": [
      "5\n"
     ]
    }
   ],
   "source": [
    "a = np.array([[1,2,3],[0,1,4]]) \n",
    "b = np.zeros((2,3), dtype=np.int16) \n",
    "c = np.ones((2,3), dtype=np.int16) \n",
    "d = a + b + c \n",
    "print (d[1,2] )"
   ]
  },
  {
   "cell_type": "code",
   "execution_count": 21,
   "id": "d74d1e77",
   "metadata": {},
   "outputs": [
    {
     "name": "stdout",
     "output_type": "stream",
     "text": [
      "[[0 0 0]\n",
      " [0 0 0]]\n"
     ]
    }
   ],
   "source": [
    "b = np.zeros((2,3), dtype=np.int16) \n",
    "print(b)"
   ]
  },
  {
   "cell_type": "code",
   "execution_count": 22,
   "id": "5c74fa5b",
   "metadata": {},
   "outputs": [
    {
     "name": "stdout",
     "output_type": "stream",
     "text": [
      "[[1 2 3]\n",
      " [0 1 4]]\n"
     ]
    }
   ],
   "source": [
    "a = np.array([[1,2,3],[0,1,4]]) \n",
    "print (a)"
   ]
  },
  {
   "cell_type": "code",
   "execution_count": 23,
   "id": "bcd315e9",
   "metadata": {},
   "outputs": [
    {
     "name": "stdout",
     "output_type": "stream",
     "text": [
      "[[1 1 1]\n",
      " [1 1 1]]\n"
     ]
    }
   ],
   "source": [
    "c = np.ones((2,3), dtype=np.int16) \n",
    "print(c)"
   ]
  },
  {
   "cell_type": "code",
   "execution_count": 24,
   "id": "c6c3cad5",
   "metadata": {},
   "outputs": [
    {
     "name": "stdout",
     "output_type": "stream",
     "text": [
      "[ 3 12]\n"
     ]
    }
   ],
   "source": [
    "a = np.array([[0, 1, 2], [3, 4, 5]]) \n",
    "b = a.sum(axis=1) \n",
    "print (b)"
   ]
  },
  {
   "cell_type": "code",
   "execution_count": 25,
   "id": "c9484c1e",
   "metadata": {},
   "outputs": [
    {
     "name": "stdout",
     "output_type": "stream",
     "text": [
      "[[0 1 2]\n",
      " [3 4 5]]\n"
     ]
    }
   ],
   "source": [
    "a = np.array([[0, 1, 2], [3, 4, 5]]) \n",
    "print(a)"
   ]
  },
  {
   "cell_type": "code",
   "execution_count": null,
   "id": "29c706c6",
   "metadata": {},
   "outputs": [],
   "source": []
  }
 ],
 "metadata": {
  "kernelspec": {
   "display_name": "Python 3 (ipykernel)",
   "language": "python",
   "name": "python3"
  },
  "language_info": {
   "codemirror_mode": {
    "name": "ipython",
    "version": 3
   },
   "file_extension": ".py",
   "mimetype": "text/x-python",
   "name": "python",
   "nbconvert_exporter": "python",
   "pygments_lexer": "ipython3",
   "version": "3.9.12"
  }
 },
 "nbformat": 4,
 "nbformat_minor": 5
}
